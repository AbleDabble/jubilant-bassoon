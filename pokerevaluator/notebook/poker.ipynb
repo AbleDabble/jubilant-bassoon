{
 "cells": [
  {
   "cell_type": "code",
   "execution_count": 1,
   "metadata": {},
   "outputs": [],
   "source": [
    "import numpy as np\n",
    "from itertools import combinations\n",
    "import matplotlib.pyplot as plt\n",
    "import pickle\n",
    "import os"
   ]
  },
  {
   "cell_type": "markdown",
   "metadata": {},
   "source": [
    "# Creating a Poker evaluation algorithm \n",
    "\n",
    "## Cactus Kev's Algorithm\n",
    "This algorithm matches all hands to specific pre-computed value representing the rank among all unique rankings in a poker hand. \n",
    "```\n",
    "+--------+--------+--------+--------+\n",
    "|xxxbbbbb|bbbbbbbb|cdhsrrrr|xxpppppp|\n",
    "+--------+--------+--------+--------+\n",
    "```\n",
    "where:\n",
    "* b is bit turned on depending on rank\n",
    "* cdhs is suit ie clubs, diamonds, heart, spades\n",
    "* r is rank represented eg deuce=0, trey=1, four=2, five=3... Ace=12\n",
    "* p is prime number corresponding to rank deuce = (deuce=2,trey=3,four=5,...,ace=41)"
   ]
  },
  {
   "cell_type": "code",
   "execution_count": 2,
   "metadata": {},
   "outputs": [],
   "source": [
    "path = 'pokerevaluator/arrays/'"
   ]
  },
  {
   "cell_type": "code",
   "execution_count": 3,
   "metadata": {},
   "outputs": [],
   "source": [
    "flushes = np.load(path + 'flushes.npy')\n",
    "primes = np.load(path + 'primes.npy')\n",
    "unique5 = np.load(path + 'unique5.npy')\n",
    "with open(path + 'prodVal.pkl', 'rb') as f:\n",
    "    prodVal = pickle.load(f)\n",
    "with open(path + 'handDict.pkl', 'rb') as f:\n",
    "    handDict = pickle.load(f)\n"
   ]
  },
  {
   "cell_type": "code",
   "execution_count": 79,
   "metadata": {},
   "outputs": [],
   "source": [
    "def as_string(val: int):\n",
    "    b_as_string = (\"0\" * (32 - len(bin(val)) )) + bin(val)[2:]\n",
    "    return b_as_string"
   ]
  },
  {
   "cell_type": "code",
   "execution_count": 82,
   "metadata": {
    "collapsed": true,
    "jupyter": {
     "outputs_hidden": true
    }
   },
   "outputs": [
    {
     "name": "stdout",
     "output_type": "stream",
     "text": [
      "binary representation 000000000000010001000000000010 length: 2s\n",
      "binary representation 000000000000010010000000000010 length: 2h\n",
      "binary representation 000000000000010100000000000010 length: 2d\n",
      "binary representation 000000000000011000000000000010 length: 2c\n",
      "binary representation 000000000000100001000100000011 length: 3s\n",
      "binary representation 000000000000100010000100000011 length: 3h\n",
      "binary representation 000000000000100100000100000011 length: 3d\n",
      "binary representation 000000000000101000000100000011 length: 3c\n",
      "binary representation 000000000001000001001000000101 length: 4s\n",
      "binary representation 000000000001000010001000000101 length: 4h\n",
      "binary representation 000000000001000100001000000101 length: 4d\n",
      "binary representation 000000000001001000001000000101 length: 4c\n",
      "binary representation 000000000010000001001100000111 length: 5s\n",
      "binary representation 000000000010000010001100000111 length: 5h\n",
      "binary representation 000000000010000100001100000111 length: 5d\n",
      "binary representation 000000000010001000001100000111 length: 5c\n",
      "binary representation 000000000100000001010000001011 length: 6s\n",
      "binary representation 000000000100000010010000001011 length: 6h\n",
      "binary representation 000000000100000100010000001011 length: 6d\n",
      "binary representation 000000000100001000010000001011 length: 6c\n",
      "binary representation 000000001000000001010100001101 length: 7s\n",
      "binary representation 000000001000000010010100001101 length: 7h\n",
      "binary representation 000000001000000100010100001101 length: 7d\n",
      "binary representation 000000001000001000010100001101 length: 7c\n",
      "binary representation 000000010000000001011000010001 length: 8s\n",
      "binary representation 000000010000000010011000010001 length: 8h\n",
      "binary representation 000000010000000100011000010001 length: 8d\n",
      "binary representation 000000010000001000011000010001 length: 8c\n",
      "binary representation 000000100000000001011100010011 length: 9s\n",
      "binary representation 000000100000000010011100010011 length: 9h\n",
      "binary representation 000000100000000100011100010011 length: 9d\n",
      "binary representation 000000100000001000011100010011 length: 9c\n",
      "binary representation 000001000000000001100000010111 length: Ts\n",
      "binary representation 000001000000000010100000010111 length: Th\n",
      "binary representation 000001000000000100100000010111 length: Td\n",
      "binary representation 000001000000001000100000010111 length: Tc\n",
      "binary representation 000010000000000001100100011101 length: Js\n",
      "binary representation 000010000000000010100100011101 length: Jh\n",
      "binary representation 000010000000000100100100011101 length: Jd\n",
      "binary representation 000010000000001000100100011101 length: Jc\n",
      "binary representation 000100000000000001101000011111 length: Qs\n",
      "binary representation 000100000000000010101000011111 length: Qh\n",
      "binary representation 000100000000000100101000011111 length: Qd\n",
      "binary representation 000100000000001000101000011111 length: Qc\n",
      "binary representation 001000000000000001101100100101 length: Ks\n",
      "binary representation 001000000000000010101100100101 length: Kh\n",
      "binary representation 001000000000000100101100100101 length: Kd\n",
      "binary representation 001000000000001000101100100101 length: Kc\n",
      "binary representation 010000000000000001110000101001 length: As\n",
      "binary representation 010000000000000010110000101001 length: Ah\n",
      "binary representation 010000000000000100110000101001 length: Ad\n",
      "binary representation 010000000000001000110000101001 length: Ac\n"
     ]
    }
   ],
   "source": [
    "'''ranks = '23456789TJQKA'\n",
    "suits = 'shdc'\n",
    "handDict = {}\n",
    "test = 0\n",
    "for i, rank in enumerate(ranks):\n",
    "    b = 1 << 16 + i\n",
    "    r = i << 8\n",
    "    p = primes[i]\n",
    "    for j, suit in enumerate(suits):\n",
    "        s = 2 ** j << 12\n",
    "        binrep = b | r | p | s\n",
    "        b_as_string = as_string(binrep)\n",
    "        print(f\"binary representation {b_as_string} length: {rank + suit}\")\n",
    "        handDict[rank + suit] = binrep\n",
    "    #print(f\"binary representation {bin(b)[2:]} length: {len(bin(b)[2:])}\")\n",
    "with open(path + 'handDict.pkl', 'wb') as f:\n",
    "    pickle.dump(handDict, f, protocol=pickle.HIGHEST_PROTOCOL)'''"
   ]
  },
  {
   "cell_type": "code",
   "execution_count": 8,
   "metadata": {},
   "outputs": [
    {
     "data": {
      "text/plain": [
       "array(['2s', '2h', '2d', '2c', '3s', '3h', '3d', '3c', '4s', '4h', '4d',\n",
       "       '4c', '5s', '5h', '5d', '5c', '6s', '6h', '6d', '6c', '7s', '7h',\n",
       "       '7d', '7c', '8s', '8h', '8d', '8c', '9s', '9h', '9d', '9c', 'Ts',\n",
       "       'Th', 'Td', 'Tc', 'Js', 'Jh', 'Jd', 'Jc', 'Qs', 'Qh', 'Qd', 'Qc',\n",
       "       'Ks', 'Kh', 'Kd', 'Kc', 'As', 'Ah', 'Ad', 'Ac'], dtype='<U2')"
      ]
     },
     "execution_count": 8,
     "metadata": {},
     "output_type": "execute_result"
    }
   ],
   "source": [
    "ranks = '23456789TJQKA'\n",
    "suits = 'shdc'\n",
    "deck = np.array([rank + suit for rank in ranks for suit in suits])\n",
    "deck"
   ]
  },
  {
   "cell_type": "code",
   "execution_count": 17,
   "metadata": {},
   "outputs": [
    {
     "name": "stdout",
     "output_type": "stream",
     "text": [
      "1599\n",
      "9\n",
      "10\n",
      "1609\n",
      "3326\n"
     ]
    }
   ],
   "source": [
    "def evaluate(hand: list) -> int:\n",
    "    bit_hand = [handDict[card] for card in hand]\n",
    "    flushval = 0xF000\n",
    "    flushval = (bit_hand[0] & bit_hand[1] & bit_hand[2] & bit_hand[3] & bit_hand[4]) & 0xF000\n",
    "    if flushval > 0:\n",
    "        lookupid = (bit_hand[0] | bit_hand[1] | bit_hand[2] | bit_hand[3] | bit_hand[4]) >> 16\n",
    "        return flushes[lookupid]\n",
    "    lookupid = (bit_hand[0] | bit_hand[1] | bit_hand[2] | bit_hand[3] | bit_hand[4]) >> 16\n",
    "    straight_highcard = unique5[lookupid]\n",
    "    if straight_highcard > 0:\n",
    "        return straight_highcard\n",
    "    lookupid = (bit_hand[0] & 0xFF) * (bit_hand[1] & 0xFF) * (bit_hand[2] & 0xFF) * (bit_hand[3] & 0xFF) * (bit_hand[4] & 0xFF)\n",
    "    hand_rank = prodVal[lookupid]\n",
    "    return hand_rank\n",
    "print(evaluate(['2h', '3h','4h', '5h', '7h']))\n",
    "print(evaluate(['2h', '3h','4h', '6h', '5h']))\n",
    "print(evaluate(['As', '2s','3s', '4s', '5s']))\n",
    "print(evaluate(['As', '2d','3h', '4c', '5d'])) \n",
    "print(evaluate(['As', 'Ad','Qs', 'Js', 'Ks']))\n",
    "def evaluate_bithand(bit_hand: list) -> int:\n",
    "    flushval = 0xF000\n",
    "    flushval = (bit_hand[0] & bit_hand[1] & bit_hand[2] & bit_hand[3] & bit_hand[4]) & 0xF000\n",
    "    if flushval > 0:\n",
    "        lookupid = (bit_hand[0] | bit_hand[1] | bit_hand[2] | bit_hand[3] | bit_hand[4]) >> 16\n",
    "        return flushes[lookupid]\n",
    "    lookupid = (bit_hand[0] | bit_hand[1] | bit_hand[2] | bit_hand[3] | bit_hand[4]) >> 16\n",
    "    straight_highcard = unique5[lookupid]\n",
    "    if straight_highcard > 0:\n",
    "        return straight_highcard\n",
    "    lookupid = (bit_hand[0] & 0xFF) * (bit_hand[1] & 0xFF) * (bit_hand[2] & 0xFF) * (bit_hand[3] & 0xFF) * (bit_hand[4] & 0xFF)\n",
    "    hand_rank = prodVal[lookupid]\n",
    "    return hand_rank\n",
    "def pick_winner(hands: list) -> int:\n",
    "    '''returns index of hands'''\n",
    "    hand_ranks = np.array([evaluate(hand) for hand in hands])\n",
    "    return np.argsort(hand_ranks)[0] # "
   ]
  },
  {
   "cell_type": "code",
   "execution_count": 10,
   "metadata": {},
   "outputs": [
    {
     "name": "stdout",
     "output_type": "stream",
     "text": [
      "==============================\n",
      "==============================\n",
      "==============================\n",
      "==============================\n",
      "==============================\n",
      "==============================\n",
      "==============================\n",
      "==============================\n",
      "==============================\n",
      "==============================\n"
     ]
    }
   ],
   "source": [
    "# testing\n",
    "deck = np.array([rank + suit for rank in ranks for suit in suits]) # create a deck\n",
    "def test(num_players, deck):\n",
    "    # generate cards for each player\n",
    "    np.random.shuffle(deck)\n",
    "    hands = [deck[i*5:i*5+5] for i in range(num_players)]\n",
    "    winner = pick_winner(hands)\n",
    "    #for i, hand in enumerate(hands):\n",
    "    #    print(f\"Player {i+1}: {hand}\")\n",
    "    #print(f\"Winner is Player {winner + 1} with {hands[winner]}\")\n",
    "for _ in range(5):\n",
    "    print(\"=\"*30)\n",
    "    test(5, deck)\n",
    "    print(\"=\"*30)"
   ]
  },
  {
   "cell_type": "code",
   "execution_count": 32,
   "metadata": {},
   "outputs": [
    {
     "name": "stdout",
     "output_type": "stream",
     "text": [
      "Time taken: 8.105540013999416\n",
      "evaluations/sec = 123372.40927475014\n"
     ]
    }
   ],
   "source": [
    "# time test\n",
    "import time\n",
    "deck_bit = np.array([handDict[card] for card in deck])\n",
    "iterations = 1_000_000\n",
    "start = time.perf_counter()\n",
    "for i in range(iterations):\n",
    "    np.random.shuffle(deck_bit)\n",
    "    evaluate_bithand(deck_bit[:5])\n",
    "end = time.perf_counter()\n",
    "print(f\"Time taken: {end - start}\")\n",
    "print(f\"evaluations/sec = {iterations/(end-start)}\")"
   ]
  },
  {
   "cell_type": "code",
   "execution_count": 154,
   "metadata": {},
   "outputs": [
    {
     "name": "stdout",
     "output_type": "stream",
     "text": [
      "Evaluated 10000 games in 2.2091597309918143\n",
      "Games/sec = 4526.607949489667\n"
     ]
    }
   ],
   "source": [
    "from itertools import combinations\n",
    "def texas_holdem(hands, shared_cards):\n",
    "    combos = [np.array(combo) for combo in combinations(range(7), 5)]\n",
    "    best_hands = []\n",
    "    for hand in hands:\n",
    "        sev_hand = np.concatenate((hand, shared_cards))\n",
    "        best_hands.append(np.min([evaluate(sev_hand[combo]) for combo in combos]))\n",
    "    return np.argsort(best_hands)[0]\n",
    "\n",
    "def holdem_test(num_players):\n",
    "    np.random.shuffle(deck)\n",
    "    hands = [deck[i*2:i*2+2] for i in range(num_players)]\n",
    "    shared_cards = deck[num_players * 2:num_players * 2 + 5]\n",
    "    #for i, hand in enumerate(hands):\n",
    "        #print(f\"Player {i + 1}: {hand}\")\n",
    "    #print(f\"Shared cards: {shared_cards}\")\n",
    "    winner = texas_holdem(hands, shared_cards)\n",
    "    #print(f\"Winner is Player {texas_holdem(hands, shared_cards) + 1} with hand {hands[winner]}\")\n",
    "iterations = 10000\n",
    "num_players = 3\n",
    "start = time.perf_counter()\n",
    "for i in range(iterations):\n",
    "    holdem_test(1)\n",
    "end = time.perf_counter()\n",
    "print(f\"Evaluated {iterations} games in {end - start}\")\n",
    "print(f\"Games/sec = {iterations/(end-start)}\")"
   ]
  },
  {
   "cell_type": "code",
   "execution_count": null,
   "metadata": {},
   "outputs": [],
   "source": []
  }
 ],
 "metadata": {
  "kernelspec": {
   "display_name": "Python 3",
   "language": "python",
   "name": "python3"
  },
  "language_info": {
   "codemirror_mode": {
    "name": "ipython",
    "version": 3
   },
   "file_extension": ".py",
   "mimetype": "text/x-python",
   "name": "python",
   "nbconvert_exporter": "python",
   "pygments_lexer": "ipython3",
   "version": "3.8.3"
  }
 },
 "nbformat": 4,
 "nbformat_minor": 4
}
